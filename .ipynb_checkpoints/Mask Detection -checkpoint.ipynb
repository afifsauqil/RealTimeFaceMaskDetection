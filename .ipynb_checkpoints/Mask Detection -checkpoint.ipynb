{
 "cells": [
  {
   "cell_type": "markdown",
   "metadata": {},
   "source": [
    " \n",
    "# DATA PRE-PROCESSING  "
   ]
  },
  {
   "cell_type": "code",
   "execution_count": 1,
   "metadata": {},
   "outputs": [
    {
     "name": "stdout",
     "output_type": "stream",
     "text": [
      "{'with mask': 0, 'without mask': 1}\n",
      "['with mask', 'without mask']\n",
      "[0, 1]\n"
     ]
    }
   ],
   "source": [
    "# step 1 - import library\n",
    "import cv2,os\n",
    "\n",
    "data_path=r'dataset'\n",
    "categories=os.listdir(data_path)\n",
    "labels=[i for i in range(len(categories))]\n",
    "\n",
    "label_dict=dict(zip(categories,labels)) #empty dictionary\n",
    "\n",
    "print(label_dict)\n",
    "print(categories)\n",
    "print(labels)"
   ]
  },
  {
   "cell_type": "code",
   "execution_count": 2,
   "metadata": {},
   "outputs": [
    {
     "name": "stdout",
     "output_type": "stream",
     "text": [
      "Exception: OpenCV(3.4.1) C:\\Miniconda3\\conda-bld\\opencv-suite_1533128839831\\work\\modules\\imgproc\\src\\color.cpp:11147: error: (-215) scn == 3 || scn == 4 in function cv::cvtColor\n",
      "\n",
      "Exception: OpenCV(3.4.1) C:\\Miniconda3\\conda-bld\\opencv-suite_1533128839831\\work\\modules\\imgproc\\src\\color.cpp:11147: error: (-215) scn == 3 || scn == 4 in function cv::cvtColor\n",
      "\n"
     ]
    }
   ],
   "source": [
    "# step 2 - import 2 folders for datasets(\"mask\", \"no mask\")\n",
    "img_size=100\n",
    "data=[]\n",
    "target=[]\n",
    "\n",
    "\n",
    "for category in categories:\n",
    "    folder_path=os.path.join(data_path,category)\n",
    "    img_names=os.listdir(folder_path)\n",
    "        \n",
    "    for img_name in img_names:\n",
    "        img_path=os.path.join(folder_path,img_name)\n",
    "        img=cv2.imread(img_path)\n",
    "\n",
    "        try:\n",
    "            gray=cv2.cvtColor(img,cv2.COLOR_BGR2GRAY)           \n",
    "            #Coverting the image into gray scale\n",
    "            resized=cv2.resize(gray,(img_size,img_size))\n",
    "            #resizing the gray scale into 50x50, since we need a fixed common size for all the images in the dataset\n",
    "            data.append(resized)\n",
    "            target.append(label_dict[category])\n",
    "            #appending the image and the label(categorized) into the list (dataset)\n",
    "\n",
    "        except Exception as e:\n",
    "            print('Exception:',e)\n",
    "            #if any exception rasied, the exception will be printed here. And pass to the next image"
   ]
  },
  {
   "cell_type": "code",
   "execution_count": 3,
   "metadata": {},
   "outputs": [
    {
     "name": "stderr",
     "output_type": "stream",
     "text": [
      "Using TensorFlow backend.\n"
     ]
    }
   ],
   "source": [
    "import numpy as np\n",
    "\n",
    "data=np.array(data)/255.0\n",
    "data=np.reshape(data,(data.shape[0],img_size,img_size,1))\n",
    "target=np.array(target)\n",
    "\n",
    "from keras.utils import np_utils\n",
    "import tensorflow as tf\n",
    "tf.get_default_graph\n",
    "\n",
    "new_target=np_utils.to_categorical(target)"
   ]
  },
  {
   "cell_type": "code",
   "execution_count": 4,
   "metadata": {},
   "outputs": [],
   "source": [
    "np.save('data',data)\n",
    "np.save('target',new_target)"
   ]
  },
  {
   "cell_type": "markdown",
   "metadata": {},
   "source": [
    "# Convolutional Neural Network Architecture\n"
   ]
  },
  {
   "cell_type": "code",
   "execution_count": 5,
   "metadata": {},
   "outputs": [
    {
     "data": {
      "text/plain": [
       "<function tensorflow.python.framework.ops.get_default_graph()>"
      ]
     },
     "execution_count": 5,
     "metadata": {},
     "output_type": "execute_result"
    }
   ],
   "source": [
    "import numpy as np\n",
    "\n",
    "data=np.load(r'data.npy')\n",
    "target=np.load(r'target.npy')\n",
    "\n",
    "import tensorflow as tf\n",
    "tf.get_default_graph"
   ]
  },
  {
   "cell_type": "code",
   "execution_count": 6,
   "metadata": {},
   "outputs": [
    {
     "name": "stdout",
     "output_type": "stream",
     "text": [
      "WARNING:tensorflow:From C:\\Users\\Achmad Reza\\Anaconda3\\lib\\site-packages\\keras\\backend\\tensorflow_backend.py:4070: The name tf.nn.max_pool is deprecated. Please use tf.nn.max_pool2d instead.\n",
      "\n"
     ]
    }
   ],
   "source": [
    "from keras.models import Sequential\n",
    "from keras.layers import Dense,Activation,Flatten,Dropout\n",
    "from keras.layers import Conv2D,MaxPooling2D\n",
    "from keras.callbacks import ModelCheckpoint\n",
    "\n",
    "model=Sequential()\n",
    "\n",
    "model.add(Conv2D(200,(3,3),input_shape=data.shape[1:]))\n",
    "model.add(Activation('relu'))\n",
    "model.add(MaxPooling2D(pool_size=(2,2)))\n",
    "#The first CNN layer followed by Relu and MaxPooling layers\n",
    "\n",
    "model.add(Conv2D(100,(3,3)))\n",
    "model.add(Activation('relu'))\n",
    "model.add(MaxPooling2D(pool_size=(2,2)))\n",
    "#The second convolution layer followed by Relu and MaxPooling layers\n",
    "\n",
    "model.add(Flatten())\n",
    "model.add(Dropout(0.5))\n",
    "#Flatten layer to stack the output convolutions from second convolution layer\n",
    "model.add(Dense(50,activation='relu'))\n",
    "#Dense layer of 64 neurons\n",
    "model.add(Dense(2,activation='softmax'))\n",
    "#The Final layer with two outputs for two categories\n",
    "\n",
    "model.compile(loss='categorical_crossentropy',optimizer='adam',metrics=['accuracy'])"
   ]
  },
  {
   "cell_type": "code",
   "execution_count": 7,
   "metadata": {},
   "outputs": [],
   "source": [
    "from sklearn.model_selection import train_test_split\n",
    "\n",
    "train_data,test_data,train_target,test_target=train_test_split(data,target,test_size=0.1)"
   ]
  },
  {
   "cell_type": "code",
   "execution_count": 8,
   "metadata": {},
   "outputs": [
    {
     "name": "stdout",
     "output_type": "stream",
     "text": [
      "WARNING:tensorflow:From C:\\Users\\Achmad Reza\\Anaconda3\\lib\\site-packages\\keras\\backend\\tensorflow_backend.py:422: The name tf.global_variables is deprecated. Please use tf.compat.v1.global_variables instead.\n",
      "\n",
      "Train on 908 samples, validate on 227 samples\n",
      "Epoch 1/20\n",
      "908/908 [==============================] - 78s 86ms/step - loss: 0.7392 - accuracy: 0.5463 - val_loss: 0.6578 - val_accuracy: 0.7577\n",
      "Epoch 2/20\n",
      "908/908 [==============================] - 84s 92ms/step - loss: 0.5554 - accuracy: 0.7236 - val_loss: 0.3499 - val_accuracy: 0.8899\n",
      "Epoch 3/20\n",
      "908/908 [==============================] - 181s 199ms/step - loss: 0.3552 - accuracy: 0.8447 - val_loss: 0.2235 - val_accuracy: 0.9295\n",
      "Epoch 4/20\n",
      "908/908 [==============================] - 252s 278ms/step - loss: 0.2078 - accuracy: 0.9207 - val_loss: 0.1408 - val_accuracy: 0.9559\n",
      "Epoch 5/20\n",
      "908/908 [==============================] - 258s 284ms/step - loss: 0.1721 - accuracy: 0.9339 - val_loss: 0.1181 - val_accuracy: 0.9471\n",
      "Epoch 6/20\n",
      "908/908 [==============================] - 259s 285ms/step - loss: 0.1094 - accuracy: 0.9604 - val_loss: 0.0962 - val_accuracy: 0.9559\n",
      "Epoch 7/20\n",
      "908/908 [==============================] - 255s 281ms/step - loss: 0.0946 - accuracy: 0.9648 - val_loss: 0.0842 - val_accuracy: 0.9515\n",
      "Epoch 8/20\n",
      "908/908 [==============================] - 255s 281ms/step - loss: 0.0686 - accuracy: 0.9736 - val_loss: 0.1002 - val_accuracy: 0.9559\n",
      "Epoch 9/20\n",
      "908/908 [==============================] - 334s 367ms/step - loss: 0.0671 - accuracy: 0.9758 - val_loss: 0.1178 - val_accuracy: 0.9559\n",
      "Epoch 10/20\n",
      "908/908 [==============================] - 352s 387ms/step - loss: 0.0499 - accuracy: 0.9857 - val_loss: 0.0791 - val_accuracy: 0.9559\n",
      "Epoch 11/20\n",
      "908/908 [==============================] - 342s 377ms/step - loss: 0.0684 - accuracy: 0.9758 - val_loss: 0.1047 - val_accuracy: 0.9515\n",
      "Epoch 12/20\n",
      "908/908 [==============================] - 278s 306ms/step - loss: 0.0331 - accuracy: 0.9868 - val_loss: 0.0881 - val_accuracy: 0.9648\n",
      "Epoch 13/20\n",
      "908/908 [==============================] - 278s 307ms/step - loss: 0.0313 - accuracy: 0.9923 - val_loss: 0.0690 - val_accuracy: 0.9736\n",
      "Epoch 14/20\n",
      "908/908 [==============================] - 254s 280ms/step - loss: 0.0268 - accuracy: 0.9901 - val_loss: 0.0871 - val_accuracy: 0.9604\n",
      "Epoch 15/20\n",
      "908/908 [==============================] - 269s 297ms/step - loss: 0.0174 - accuracy: 0.9978 - val_loss: 0.0707 - val_accuracy: 0.9736\n",
      "Epoch 16/20\n",
      "908/908 [==============================] - 266s 293ms/step - loss: 0.0351 - accuracy: 0.9879 - val_loss: 0.0877 - val_accuracy: 0.9692\n",
      "Epoch 17/20\n",
      "908/908 [==============================] - 297s 327ms/step - loss: 0.0302 - accuracy: 0.9912 - val_loss: 0.1126 - val_accuracy: 0.9559\n",
      "Epoch 18/20\n",
      "908/908 [==============================] - 310s 342ms/step - loss: 0.0490 - accuracy: 0.9835 - val_loss: 0.0630 - val_accuracy: 0.9692\n",
      "Epoch 19/20\n",
      "908/908 [==============================] - 285s 314ms/step - loss: 0.0277 - accuracy: 0.9879 - val_loss: 0.0636 - val_accuracy: 0.9648\n",
      "Epoch 20/20\n",
      "908/908 [==============================] - 267s 294ms/step - loss: 0.0309 - accuracy: 0.9868 - val_loss: 0.0760 - val_accuracy: 0.9559\n"
     ]
    }
   ],
   "source": [
    "checkpoint = ModelCheckpoint('model-{epoch:03d}.model',monitor='val_loss',verbose=0,save_best_only=True,mode='auto')\n",
    "history=model.fit(train_data,train_target,epochs=20,callbacks=[checkpoint],validation_split=0.2)"
   ]
  },
  {
   "cell_type": "code",
   "execution_count": 10,
   "metadata": {},
   "outputs": [
    {
     "data": {
      "image/png": "[encoded data removed]",
      "text/plain": [
       "<Figure size 432x288 with 1 Axes>"
      ]
     },
     "metadata": {
      "needs_background": "light"
     },
     "output_type": "display_data"
    }
   ],
   "source": [
    "# visualization for train model \n",
    "\n",
    "from matplotlib import pyplot as plt\n",
    "\n",
    "# loss visualise\n",
    "plt.plot(history.history['loss'],'r',label='training loss')\n",
    "plt.plot(history.history['val_loss'],label='validation loss')\n",
    "plt.xlabel('epochs')\n",
    "plt.ylabel('loss')\n",
    "plt.legend()\n",
    "plt.show()"
   ]
  },
  {
   "cell_type": "code",
   "execution_count": 11,
   "metadata": {},
   "outputs": [
    {
     "data": {
      "image/png": "[encoded data removed]",
      "text/plain": [
       "<Figure size 432x288 with 1 Axes>"
      ]
     },
     "metadata": {
      "needs_background": "light"
     },
     "output_type": "display_data"
    }
   ],
   "source": [
    "# accurancy visualise\n",
    "plt.plot(history.history['accuracy'],'r',label='training accuracy')\n",
    "plt.plot(history.history['val_accuracy'],label='validation accuracy')\n",
    "plt.xlabel('# epochs')\n",
    "plt.ylabel('loss')\n",
    "plt.legend()\n",
    "plt.show()"
   ]
  },
  {
   "cell_type": "markdown",
   "metadata": {},
   "source": [
    "# Detection "
   ]
  },
  {
   "cell_type": "code",
   "execution_count": 12,
   "metadata": {},
   "outputs": [
    {
     "data": {
      "text/plain": [
       "<function tensorflow.python.framework.ops.get_default_graph()>"
      ]
     },
     "execution_count": 12,
     "metadata": {},
     "output_type": "execute_result"
    }
   ],
   "source": [
    "from keras.models import load_model\n",
    "import cv2\n",
    "import numpy as np\n",
    "import tensorflow as tf\n",
    "tf.get_default_graph"
   ]
  },
  {
   "cell_type": "code",
   "execution_count": 17,
   "metadata": {},
   "outputs": [],
   "source": [
    "model = load_model(r'model-018.model')\n",
    "\n",
    "face_clsfr=cv2.CascadeClassifier(r'haarcascade_frontalface_default.xml')\n",
    "\n",
    "source=cv2.VideoCapture(2)\n",
    "\n",
    "labels_dict={0:'Sip',1:'PAKAI MASKERNYA!'}\n",
    "color_dict={0:(0,255,0),1:(0,0,255)}"
   ]
  },
  {
   "cell_type": "code",
   "execution_count": 18,
   "metadata": {},
   "outputs": [],
   "source": [
    "video_capture = cv2.VideoCapture(0)\n",
    "\n",
    "while(True):\n",
    "    ret, img = video_capture.read()\n",
    "    gray = cv2.cvtColor(img,cv2.COLOR_BGR2GRAY)\n",
    "    faces=face_clsfr.detectMultiScale(gray,1.3,5)  \n",
    "\n",
    "    for (x,y,w,h) in faces:\n",
    "    \n",
    "        face_img=gray[y:y+w,x:x+w]\n",
    "        resized=cv2.resize(face_img,(100,100))\n",
    "        normalized=resized/255.0\n",
    "        reshaped=np.reshape(normalized,(1,100,100,1))\n",
    "        result=model.predict(reshaped)\n",
    "\n",
    "        label=np.argmax(result,axis=1)[0]\n",
    "      \n",
    "        cv2.rectangle(img,(x,y),(x+w,y+h),color_dict[label],2)\n",
    "        cv2.rectangle(img,(x,y-40),(x+w,y),color_dict[label],-1)\n",
    "        cv2.putText(img, labels_dict[label], (x, y-10),cv2.FONT_HERSHEY_SIMPLEX,0.8,(255,255,255),2)\n",
    "        \n",
    "        \n",
    "    cv2.imshow('Alat Pendeteksi Masker',img)\n",
    "    key=cv2.waitKey(1)\n",
    "    \n",
    "    if(key==27):\n",
    "        break\n",
    "        \n",
    "cv2.destroyAllWindows()\n",
    "video_capture.release()"
   ]
  },
  {
   "cell_type": "code",
   "execution_count": 28,
   "metadata": {},
   "outputs": [],
   "source": [
    "source.release()"
   ]
  }
 ],
 "metadata": {
  "kernelspec": {
   "display_name": "Python 3",
   "language": "python",
   "name": "python3"
  },
  "language_info": {
   "codemirror_mode": {
    "name": "ipython",
    "version": 3
   },
   "file_extension": ".py",
   "mimetype": "text/x-python",
   "name": "python",
   "nbconvert_exporter": "python",
   "pygments_lexer": "ipython3",
   "version": "3.7.3"
  }
 },
 "nbformat": 4,
 "nbformat_minor": 2
}
